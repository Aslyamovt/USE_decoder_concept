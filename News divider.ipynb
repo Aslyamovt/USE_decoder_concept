{
 "cells": [
  {
   "cell_type": "code",
   "execution_count": 2,
   "metadata": {},
   "outputs": [
    {
     "name": "stdout",
     "output_type": "stream",
     "text": [
      "Считано\n",
      "Токенизировано\n"
     ]
    },
    {
     "ename": "NameError",
     "evalue": "name 'xlwt' is not defined",
     "output_type": "error",
     "traceback": [
      "\u001b[1;31m---------------------------------------------------------------------------\u001b[0m",
      "\u001b[1;31mNameError\u001b[0m                                 Traceback (most recent call last)",
      "\u001b[1;32m<ipython-input-2-514369a3961b>\u001b[0m in \u001b[0;36m<module>\u001b[1;34m\u001b[0m\n\u001b[0;32m      8\u001b[0m \u001b[0mprint\u001b[0m\u001b[1;33m(\u001b[0m\u001b[1;34m'Токенизировано'\u001b[0m\u001b[1;33m)\u001b[0m\u001b[1;33m\u001b[0m\u001b[1;33m\u001b[0m\u001b[0m\n\u001b[0;32m      9\u001b[0m \u001b[1;33m\u001b[0m\u001b[0m\n\u001b[1;32m---> 10\u001b[1;33m \u001b[0mbook\u001b[0m \u001b[1;33m=\u001b[0m \u001b[0mxlwt\u001b[0m\u001b[1;33m.\u001b[0m\u001b[0mWorkbook\u001b[0m\u001b[1;33m(\u001b[0m\u001b[0mencoding\u001b[0m\u001b[1;33m=\u001b[0m\u001b[1;34m\"utf-8\"\u001b[0m\u001b[1;33m)\u001b[0m\u001b[1;33m\u001b[0m\u001b[1;33m\u001b[0m\u001b[0m\n\u001b[0m\u001b[0;32m     11\u001b[0m \u001b[0msheet1\u001b[0m \u001b[1;33m=\u001b[0m \u001b[0mbook\u001b[0m\u001b[1;33m.\u001b[0m\u001b[0madd_sheet\u001b[0m\u001b[1;33m(\u001b[0m\u001b[1;34m\"Sheet 1\"\u001b[0m\u001b[1;33m)\u001b[0m\u001b[1;33m\u001b[0m\u001b[1;33m\u001b[0m\u001b[0m\n\u001b[0;32m     12\u001b[0m \u001b[1;33m\u001b[0m\u001b[0m\n",
      "\u001b[1;31mNameError\u001b[0m: name 'xlwt' is not defined"
     ]
    }
   ],
   "source": [
    "import nltk\n",
    "\n",
    "f = open('D:/112/декодер/russian_news_orig.txt', encoding=\"utf8\")\n",
    "text = f.read()\n",
    "print('Считано')\n",
    "\n",
    "sentences = nltk.sent_tokenize(text, language=\"russian\")\n",
    "print('Токенизировано')\n",
    "\n",
    "book = xlwt.Workbook(encoding=\"utf-8\")\n",
    "sheet1 = book.add_sheet(\"Sheet 1\")\n",
    "\n",
    "for i in (len(sentences)):\n",
    "    sheet1.write(i, 0, sentences[i])\n",
    "print('Создан образ файла')\n",
    "    \n",
    "book.save(\"D:/112/дукодер/news.xls\")\n",
    "print('Файл записан')"
   ]
  },
  {
   "cell_type": "code",
   "execution_count": 14,
   "metadata": {
    "scrolled": true
   },
   "outputs": [
    {
     "name": "stdout",
     "output_type": "stream",
     "text": [
      "Файл записан\n"
     ]
    }
   ],
   "source": [
    "import csv\n",
    "\n",
    "with open(\"D:\\\\112\\\\декодер\\\\news.csv\", \"w\", encoding='utf-8') as fw:\n",
    "    writer = csv.writer(fw)\n",
    "    for i in range(len(sentences)):\n",
    "        writer.writerow(sentences[i])\n",
    "print('Файл записан')"
   ]
  },
  {
   "cell_type": "code",
   "execution_count": 16,
   "metadata": {},
   "outputs": [
    {
     "name": "stdout",
     "output_type": "stream",
     "text": [
      "Файл записан\n"
     ]
    }
   ],
   "source": [
    "with open(\"D:\\\\112\\\\декодер\\\\news.txt\", \"w\", encoding='utf-8') as fw:\n",
    "    writer = csv.writer(fw)\n",
    "    for i in range(len(sentences)):\n",
    "        fw.write(sentences[i]+'\\n')\n",
    "print('Файл записан')\n",
    "f.close()\n",
    "fw.close()"
   ]
  },
  {
   "cell_type": "code",
   "execution_count": null,
   "metadata": {},
   "outputs": [],
   "source": []
  }
 ],
 "metadata": {
  "kernelspec": {
   "display_name": "Python 3",
   "language": "python",
   "name": "python3"
  },
  "language_info": {
   "codemirror_mode": {
    "name": "ipython",
    "version": 3
   },
   "file_extension": ".py",
   "mimetype": "text/x-python",
   "name": "python",
   "nbconvert_exporter": "python",
   "pygments_lexer": "ipython3",
   "version": "3.6.9"
  }
 },
 "nbformat": 4,
 "nbformat_minor": 2
}
